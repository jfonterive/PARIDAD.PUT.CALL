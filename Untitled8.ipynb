{
  "nbformat": 4,
  "nbformat_minor": 0,
  "metadata": {
    "colab": {
      "name": "Untitled8.ipynb",
      "provenance": []
    },
    "kernelspec": {
      "name": "python3",
      "display_name": "Python 3"
    },
    "language_info": {
      "name": "python"
    }
  },
  "cells": [
    {
      "cell_type": "markdown",
      "source": [
        "### Paridad PutCall\n",
        "\n",
        "Oportunidades de Arbitraje en el mercado"
      ],
      "metadata": {
        "id": "gmQ0LcO_ERRf"
      }
    },
    {
      "cell_type": "code",
      "execution_count": null,
      "metadata": {
        "id": "dUjpKc3lEOJA"
      },
      "outputs": [],
      "source": [
        "import numpy as np"
      ]
    },
    {
      "cell_type": "code",
      "source": [
        "\n",
        "S=float(input('Precio Spot del activo subyacente: ') or 100)\n",
        "print('Precio spot=',S)\n",
        "\n",
        "PE=float(input('Precio Strike de la opción: ') or 100)\n",
        "print('Precio opción=',PE)\n",
        "\n",
        "t=float(input('Años: ') or 1)\n",
        "print('Años=',t)\n",
        "\n",
        "P=float(input('Prima PUT: ') or 100)\n",
        "print('Prima Put=',P)\n",
        "\n",
        "Cm=float(input('Prima Call mercado: ') or 100)\n",
        "print('Prima Call mercado=',Cm)\n",
        "\n",
        "Ct=float(input('Prima Call teórica: ') or 100)\n",
        "print('Prima Call teórica=',Ct)\n",
        "\n",
        "B0=float(input('Valor bono en t=0: ') or 100)\n",
        "print('Valor bono t=0=',B0)\n",
        "\n",
        "Bt=float(input('Valor bono en t=n: ') or 100)\n",
        "print('Valor bono t=n=',Bt)\n",
        "\n",
        "Sn=float(input('Valor de la acción en n ') or 100)\n",
        "print('Valor acción t=n=',Sn)\n",
        "\n",
        "i=0.1\n",
        "r=np.log(1+i)\n",
        "\n",
        "\n",
        "if Ct+B0!=S+P:\n",
        "  print('Arbitraje')\n",
        "elif Ct+B0==S+P:\n",
        "  print('Equilibrio')\n",
        "\n",
        "if Ct+B0<S+P: \n",
        "  print('Estrategia: Comprar Call y Bono; Vender Put y Acción')\n",
        "elif Ct+B0>S+P: \n",
        "  print('Estrategia: Comprar Put y Acción; Vender Call y Bono')\n",
        "\n",
        "#En t=0\n",
        "if Ct+B0<S+P: \n",
        "  call=-Cm\n",
        "elif Ct+B0>S+P: \n",
        "  call=-P\n",
        "print(call)\n",
        "if Ct+B0<S+P: \n",
        "  bono=-B0\n",
        "elif Ct+B0>S+P: \n",
        "  bono=-S\n",
        "print(bono)\n",
        "if Ct+B0<S+P: \n",
        "  put=P\n",
        "elif Ct+B0>S+P:\n",
        "  put=Cm\n",
        "print(put)\n",
        "if Ct+B0<S+P: \n",
        "  accion=S\n",
        "elif Ct+B0>S+P: \n",
        "  accion=B0\n",
        "print(accion)\n",
        "\n",
        "total0=call+bono+put+accion\n",
        "print('Total en t=0',total0)\n",
        "\n",
        "#En t=1\n",
        "if Ct+B0<S+P:\n",
        "  call=(max(0,(Sn-PE))) #Call comprado\n",
        "elif Ct+B0>S+P:\n",
        "  call=(max(0,(PE-Sn))) #Put comprado\n",
        "print(call)\n",
        "if Ct+B0<S+P: #Compra el bono en t=0 y obtiene el precio del bono en t=1\n",
        "  bono=Bt\n",
        "elif Ct+B0>S+P: #Compra acción en t=0 y obtiene el valor Sn en t=1\n",
        "  bono=Sn\n",
        "print(bono)\n",
        "if Ct+B0<S+P:\n",
        "  put=min(0,(Sn-PE)) #Put vendido\n",
        "elif Ct+B0>S+P:\n",
        "  put=min(0,(PE-Sn)) #Call vendido\n",
        "print(put)\n",
        "if Ct+B0<S+P: #Vende acción en t=0 y pierde Sn en t=1\n",
        "  accion=-Sn\n",
        "elif Ct+B0>S+P: #Vende bono en t=0 y pierde Bt en t=1\n",
        "  accion=-Bt\n",
        "print(accion)\n",
        "\n",
        "totalt=call+bono+put+accion\n",
        "print('Total en t=1',totalt)\n",
        "\n"
      ],
      "metadata": {
        "colab": {
          "base_uri": "https://localhost:8080/"
        },
        "id": "qpE8pgHGFMa7",
        "outputId": "c34df9f6-6edc-4837-bfa1-efa3757bb2fc"
      },
      "execution_count": null,
      "outputs": [
        {
          "output_type": "stream",
          "name": "stdout",
          "text": [
            "Precio Spot del activo subyacente: 105\n",
            "Precio spot= 105.0\n",
            "Precio Strike de la opción: 110\n",
            "Precio opción= 110.0\n",
            "Años: 1\n",
            "Años= 1.0\n",
            "Prima PUT: 10\n",
            "Prima Put= 10.0\n",
            "Prima Call mercado: 12\n",
            "Prima Call mercado= 12.0\n",
            "Prima Call teórica: 8\n",
            "Prima Call teórica= 8.0\n",
            "Valor bono en t=0: 100\n",
            "Valor bono t=0= 100.0\n",
            "Valor bono en t=n: 110\n",
            "Valor bono t=n= 110.0\n",
            "Valor de la acción en n 110\n",
            "Valor acción t=n= 110.0\n",
            "Arbitraje\n",
            "Comprar Call y Bono; Vender Put y Acción\n",
            "-12.0\n",
            "-100.0\n",
            "10.0\n",
            "105.0\n",
            "Total en t=0 3.0\n",
            "0\n",
            "110.0\n",
            "0\n",
            "-110.0\n",
            "Total en t=1 0.0\n"
          ]
        }
      ]
    }
  ]
}